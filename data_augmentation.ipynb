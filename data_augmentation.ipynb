{
 "cells": [
  {
   "cell_type": "code",
   "execution_count": 2,
   "metadata": {},
   "outputs": [],
   "source": [
    "import numpy as np\n",
    "import pandas as pd\n",
    "import matplotlib.pyplot as plt\n",
    "import gc\n",
    "import warnings\n",
    "import itertools\n",
    "from random import randint"
   ]
  },
  {
   "cell_type": "code",
   "execution_count": 48,
   "metadata": {},
   "outputs": [],
   "source": [
    "# read csv files\n",
    "#train = pd.read_csv('../training_set.csv',header=0)\n",
    "#meta_train = pd.read_csv('../training_set_metadata.csv',header=0)\n",
    "train = pd.read_csv('/modules/cs342/Assignment2/training_set.csv',header=0)\n",
    "meta_train = pd.read_csv('/modules/cs342/Assignment2/training_set_metadata.csv',header=0)"
   ]
  },
  {
   "cell_type": "markdown",
   "metadata": {},
   "source": [
    "### Helper Functions"
   ]
  },
  {
   "cell_type": "code",
   "execution_count": 3,
   "metadata": {},
   "outputs": [],
   "source": [
    "# Helper function used to plot a single object based on object id\n",
    "def plotSingleObject(obj):\n",
    "    # Define all unique passbands\n",
    "    unique_passbands = [0,1,2,3,4,5]\n",
    "    \n",
    "    # plot flux for each passband\n",
    "    for passband in unique_passbands:\n",
    "        specific_passband = obj[obj['passband'] == passband]\n",
    "        plt.scatter(specific_passband['mjd'], specific_passband['flux'], label=passband, alpha=0.9, s=10)\n",
    "        \n",
    "    # Show plot\n",
    "    plt.title(\"Object ID: \" + str(obj['object_id'].head(1).values))\n",
    "    plt.xlabel(\"MJD from Nov 17, 1858\")\n",
    "    plt.ylabel(\"Flux\")\n",
    "    plt.show()"
   ]
  },
  {
   "cell_type": "markdown",
   "metadata": {},
   "source": [
    "### Implement window warping and window slicing"
   ]
  },
  {
   "cell_type": "code",
   "execution_count": 50,
   "metadata": {},
   "outputs": [],
   "source": [
    "# Get all objects\n",
    "unique_objects = meta_train['object_id'].unique()\n",
    "\n",
    "# Taken from: https://scikit-learn.org/stable/modules/generated/sklearn.preprocessing.MinMaxScaler.html\n",
    "def scaleMinMax(df, new_min, new_max):\n",
    "    df_std = (df - df.min()) / (df.max() - df.min())\n",
    "    df_scaled = df_std * (new_max - new_min) + new_min\n",
    "    return df_scaled\n",
    "\n",
    "# Window warping for a single object\n",
    "def warpObject(df, init):\n",
    "    obj = df.copy()\n",
    "    \n",
    "    # Choose a 20% chunk\n",
    "    count = obj['mjd'].count()\n",
    "    low_index = randint(0, int(0.8*count))\n",
    "    high_index = low_index + int(0.2*count)\n",
    "        \n",
    "    # Get the CHUNK's mjd max and min\n",
    "    chunk_max = obj['mjd'][low_index:high_index].max()\n",
    "    chunk_min = obj['mjd'][low_index:high_index].min()\n",
    "    chunk_range = chunk_max - chunk_min\n",
    "\n",
    "    # SQUEEZE CHUNK\n",
    "    obj.loc[obj.index[low_index:high_index], 'mjd'] = scaleMinMax(obj.loc[obj.index[low_index:high_index], 'mjd'],\n",
    "                                                                  new_min= chunk_min+0.25*chunk_range,\n",
    "                                                                  new_max= chunk_max-0.25*chunk_range)\n",
    "    # Append\n",
    "    if(init==True):\n",
    "        obj.to_csv('warped_train.csv',  header=True, index=False)\n",
    "    else:\n",
    "        obj.to_csv('warped_train.csv',  header=False, mode='a', index=False)\n",
    "\n",
    "# Window slicing for a single object\n",
    "def sliceObject(df, init):\n",
    "    obj = df.copy()\n",
    "    \n",
    "    # Choose a 20% chunk\n",
    "    count = obj['mjd'].count()\n",
    "    low_index = randint(0, int(0.8*count))\n",
    "    high_index = low_index + int(0.2*count)\n",
    "    \n",
    "    # Drop the randomly chosen 20%\n",
    "    obj = obj.drop(obj.index[low_index:high_index]).reset_index()\n",
    "\n",
    "    # Append\n",
    "    if(init==True):\n",
    "        obj.to_csv('sliced_train.csv',  header=True, index=False)\n",
    "    else:\n",
    "        obj.to_csv('sliced_train.csv',  header=False, mode='a', index=False)"
   ]
  },
  {
   "cell_type": "markdown",
   "metadata": {},
   "source": [
    "### Run window warping and window slicing"
   ]
  },
  {
   "cell_type": "code",
   "execution_count": 51,
   "metadata": {},
   "outputs": [
    {
     "name": "stdout",
     "output_type": "stream",
     "text": [
      "Done warping time\n",
      "Done slicing time\n"
     ]
    }
   ],
   "source": [
    "# Iterate window warping and slicing for all objects\n",
    "for index, obj_id in enumerate(unique_objects):\n",
    "    if(index==0):\n",
    "        warpObject(train[train['object_id'] == obj_id], init=True)\n",
    "    else:\n",
    "        warpObject(train[train['object_id'] == obj_id], init=False)\n",
    "print \"Done warping time\"\n",
    "\n",
    "for index, obj_id in enumerate(unique_objects):\n",
    "    if(index==0):\n",
    "        sliceObject(train[train['object_id'] == obj_id], init=True)\n",
    "    else:\n",
    "        sliceObject(train[train['object_id'] == obj_id], init=False)\n",
    "print \"Done slicing time\""
   ]
  },
  {
   "cell_type": "code",
   "execution_count": 4,
   "metadata": {},
   "outputs": [
    {
     "name": "stdout",
     "output_type": "stream",
     "text": [
      "(1139949, 7)\n",
      "(1421705, 6)\n"
     ]
    }
   ],
   "source": [
    "# Check values\n",
    "sliced_train = pd.read_csv('./sliced_train.csv')\n",
    "warped_train = pd.read_csv('./warped_train.csv')\n",
    "print sliced_train.shape\n",
    "print warped_train.shape"
   ]
  },
  {
   "cell_type": "code",
   "execution_count": null,
   "metadata": {},
   "outputs": [],
   "source": []
  }
 ],
 "metadata": {
  "kernelspec": {
   "display_name": "Python 2",
   "language": "python",
   "name": "python2"
  },
  "language_info": {
   "codemirror_mode": {
    "name": "ipython",
    "version": 2
   },
   "file_extension": ".py",
   "mimetype": "text/x-python",
   "name": "python",
   "nbconvert_exporter": "python",
   "pygments_lexer": "ipython2",
   "version": "2.7.10"
  }
 },
 "nbformat": 4,
 "nbformat_minor": 2
}
